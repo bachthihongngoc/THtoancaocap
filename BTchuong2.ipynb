{
  "cells": [
    {
      "cell_type": "markdown",
      "metadata": {
        "id": "view-in-github",
        "colab_type": "text"
      },
      "source": [
        "<a href=\"https://colab.research.google.com/github/bachthihongngoc/THtoancaocap/blob/main/BTchuong2.ipynb\" target=\"_parent\"><img src=\"https://colab.research.google.com/assets/colab-badge.svg\" alt=\"Open In Colab\"/></a>"
      ]
    },
    {
      "cell_type": "code",
      "source": [
        "chuoitinhtoan = \"a*b+c\"\n",
        "a = 2\n",
        "b = 5 \n",
        "c= 8 \n",
        "eval(chuoitinhtoan)"
      ],
      "metadata": {
        "id": "R7ruDVwgUTm3",
        "outputId": "f953f034-4329-47c5-8dac-13b3a0b0eb69",
        "colab": {
          "base_uri": "https://localhost:8080/"
        }
      },
      "execution_count": null,
      "outputs": [
        {
          "output_type": "execute_result",
          "data": {
            "text/plain": [
              "18"
            ]
          },
          "metadata": {},
          "execution_count": 5
        }
      ]
    },
    {
      "cell_type": "code",
      "source": [
        "danhsach_so = [10,15,20]\n",
        "danhsach_so [0]"
      ],
      "metadata": {
        "id": "62MoHwo52CtD",
        "outputId": "4b0927e0-3bbc-4646-ef4c-0287bb376174",
        "colab": {
          "base_uri": "https://localhost:8080/"
        }
      },
      "execution_count": null,
      "outputs": [
        {
          "output_type": "execute_result",
          "data": {
            "text/plain": [
              "10"
            ]
          },
          "metadata": {},
          "execution_count": 13
        }
      ]
    },
    {
      "cell_type": "code",
      "source": [
        "danhsach_so [2]"
      ],
      "metadata": {
        "id": "WbNbBFix2RVU",
        "outputId": "b20f4b8d-7390-4d31-8100-fe69e3f5f4e4",
        "colab": {
          "base_uri": "https://localhost:8080/"
        }
      },
      "execution_count": null,
      "outputs": [
        {
          "output_type": "execute_result",
          "data": {
            "text/plain": [
              "20"
            ]
          },
          "metadata": {},
          "execution_count": 14
        }
      ]
    },
    {
      "cell_type": "code",
      "source": [
        "danhsach_so [1]"
      ],
      "metadata": {
        "id": "hQn__mkh2TzM",
        "outputId": "700969ed-c631-4496-d253-3d2e0107a18a",
        "colab": {
          "base_uri": "https://localhost:8080/"
        }
      },
      "execution_count": null,
      "outputs": [
        {
          "output_type": "execute_result",
          "data": {
            "text/plain": [
              "15"
            ]
          },
          "metadata": {},
          "execution_count": 15
        }
      ]
    },
    {
      "cell_type": "code",
      "source": [
        "ds = [1,2,3]\n",
        "for so in ds :\n",
        "  print (so)"
      ],
      "metadata": {
        "id": "Q9wdFEOp2n7V",
        "outputId": "f6c61475-0b80-4826-890f-12c1809aefea",
        "colab": {
          "base_uri": "https://localhost:8080/"
        }
      },
      "execution_count": null,
      "outputs": [
        {
          "output_type": "stream",
          "name": "stdout",
          "text": [
            "1\n",
            "2\n",
            "3\n"
          ]
        }
      ]
    },
    {
      "cell_type": "code",
      "source": [
        "for chiso , giatri in enumerate(ds):\n",
        "  print(chiso, giatri)"
      ],
      "metadata": {
        "id": "eQjFwDVu2zyc",
        "outputId": "7ecf9719-d9e1-4183-cc5c-252fba8e5c49",
        "colab": {
          "base_uri": "https://localhost:8080/"
        }
      },
      "execution_count": null,
      "outputs": [
        {
          "output_type": "stream",
          "name": "stdout",
          "text": [
            "0 1\n",
            "1 2\n",
            "2 3\n"
          ]
        }
      ]
    },
    {
      "cell_type": "code",
      "source": [
        "from sympy import Symbol \n",
        "x = Symbol('x')\n",
        "y = Symbol('y')\n",
        "bieuthuc = x+y \n"
      ],
      "metadata": {
        "id": "cBkoawbk6Wyd"
      },
      "execution_count": 13,
      "outputs": []
    },
    {
      "cell_type": "code",
      "source": [
        "thaytheso = bieuthuc.subs({x:10, y:5})\n",
        "thaytheso"
      ],
      "metadata": {
        "id": "ZbM7rzQ58uEj",
        "outputId": "f2727ddf-5439-4c88-97e8-324d0ed3568f",
        "colab": {
          "base_uri": "https://localhost:8080/",
          "height": 38
        }
      },
      "execution_count": 14,
      "outputs": [
        {
          "output_type": "execute_result",
          "data": {
            "text/latex": "$\\displaystyle 15$",
            "text/plain": [
              "15"
            ]
          },
          "metadata": {},
          "execution_count": 14
        }
      ]
    },
    {
      "cell_type": "code",
      "source": [
        "u = Symbol('u') \n",
        "v = Symbol('v') \n"
      ],
      "metadata": {
        "id": "DUGfGMoX8q0v"
      },
      "execution_count": 18,
      "outputs": []
    },
    {
      "cell_type": "code",
      "source": [
        "bieuthuc_theo_uv = bieuthuc.subs({x:u , y:v})\n",
        "bieuthuc_theo_uv"
      ],
      "metadata": {
        "id": "nWBp1UTB9-QM",
        "outputId": "6524f9e8-a68a-4c58-9dd6-22c0abd433d9",
        "colab": {
          "base_uri": "https://localhost:8080/",
          "height": 39
        }
      },
      "execution_count": 16,
      "outputs": [
        {
          "output_type": "execute_result",
          "data": {
            "text/latex": "$\\displaystyle u + v$",
            "text/plain": [
              "u + v"
            ]
          },
          "metadata": {},
          "execution_count": 16
        }
      ]
    },
    {
      "cell_type": "code",
      "source": [
        " thaythe_tinhtoan = bieuthuc.subs({x:2*u*v, y:u**2+v**2}) "
      ],
      "metadata": {
        "id": "qbIJSZ-H-DCv"
      },
      "execution_count": 20,
      "outputs": []
    },
    {
      "cell_type": "code",
      "source": [
        " thaythe_tinhtoan "
      ],
      "metadata": {
        "id": "-K_50Moo-OFh",
        "outputId": "b3da58f9-05a5-46b1-b824-9689e6ac3d44",
        "colab": {
          "base_uri": "https://localhost:8080/",
          "height": 39
        }
      },
      "execution_count": 21,
      "outputs": [
        {
          "output_type": "execute_result",
          "data": {
            "text/latex": "$\\displaystyle u^{2} + 2 u v + v^{2}$",
            "text/plain": [
              "u**2 + 2*u*v + v**2"
            ]
          },
          "metadata": {},
          "execution_count": 21
        }
      ]
    },
    {
      "cell_type": "code",
      "source": [
        "thaythe_tinhtoan.factor() "
      ],
      "metadata": {
        "id": "7QYP0Jw7-S6c",
        "outputId": "771d5eb2-a0f5-428e-d219-1cc26531986a",
        "colab": {
          "base_uri": "https://localhost:8080/",
          "height": 40
        }
      },
      "execution_count": 22,
      "outputs": [
        {
          "output_type": "execute_result",
          "data": {
            "text/latex": "$\\displaystyle \\left(u + v\\right)^{2}$",
            "text/plain": [
              "(u + v)**2"
            ]
          },
          "metadata": {},
          "execution_count": 22
        }
      ]
    },
    {
      "cell_type": "markdown",
      "source": [
        "vd khác"
      ],
      "metadata": {
        "id": "kbvnSgD_-i_3"
      }
    },
    {
      "cell_type": "code",
      "source": [
        "from sympy import Symbol \n",
        " x = Symbol('x')\n",
        " y = Symbol('y')\n",
        " bieuthuc = x + y\n"
      ],
      "metadata": {
        "id": "Il4FPJwN-kbB"
      },
      "execution_count": null,
      "outputs": []
    },
    {
      "cell_type": "code",
      "source": [
        "bieuthuc2 = x**2 + y**2 \n",
        "bieuthuc2"
      ],
      "metadata": {
        "id": "dChJYqIK-uqs",
        "outputId": "654c187b-fb2a-4a6c-e9a0-8c419104c780",
        "colab": {
          "base_uri": "https://localhost:8080/",
          "height": 39
        }
      },
      "execution_count": 25,
      "outputs": [
        {
          "output_type": "execute_result",
          "data": {
            "text/latex": "$\\displaystyle x^{2} + y^{2}$",
            "text/plain": [
              "x**2 + y**2"
            ]
          },
          "metadata": {},
          "execution_count": 25
        }
      ]
    },
    {
      "cell_type": "markdown",
      "source": [
        "...."
      ],
      "metadata": {
        "id": "tgGno6FW_FQh"
      }
    },
    {
      "cell_type": "code",
      "source": [
        "u = Symbol('u') \n",
        "v = Symbol('v')\n",
        "a = Symbol('a')\n",
        "from sympy import sin, cos\n",
        "bieuthuc_theo_uv = bieuthuc2.subs({x : a*sin(u), y : a*cos(u)}) \n",
        "\n",
        "\n"
      ],
      "metadata": {
        "id": "Bl8L9UGi_GaF"
      },
      "execution_count": 29,
      "outputs": []
    },
    {
      "cell_type": "code",
      "source": [
        "bieuthuc_theo_uv.factor()"
      ],
      "metadata": {
        "id": "vO4JVKo7_3DS",
        "outputId": "d58cce39-181f-4323-d8ab-f08c24833575",
        "colab": {
          "base_uri": "https://localhost:8080/",
          "height": 39
        }
      },
      "execution_count": 28,
      "outputs": [
        {
          "output_type": "execute_result",
          "data": {
            "text/latex": "$\\displaystyle a^{2} \\left(\\sin^{2}{\\left(u \\right)} + \\cos^{2}{\\left(u \\right)}\\right)$",
            "text/plain": [
              "a**2*(sin(u)**2 + cos(u)**2)"
            ]
          },
          "metadata": {},
          "execution_count": 28
        }
      ]
    },
    {
      "cell_type": "code",
      "source": [
        "bieuthuc_theo_uv.simplify()"
      ],
      "metadata": {
        "id": "0HFHJmvu_uyg",
        "outputId": "3b97c3cd-a61d-4404-eb95-b41ebefe4f27",
        "colab": {
          "base_uri": "https://localhost:8080/",
          "height": 39
        }
      },
      "execution_count": 27,
      "outputs": [
        {
          "output_type": "execute_result",
          "data": {
            "text/latex": "$\\displaystyle a^{2}$",
            "text/plain": [
              "a**2"
            ]
          },
          "metadata": {},
          "execution_count": 27
        }
      ]
    },
    {
      "cell_type": "code",
      "source": [
        ""
      ],
      "metadata": {
        "id": "Bi1Lt_vD_1-J"
      },
      "execution_count": null,
      "outputs": []
    }
  ],
  "metadata": {
    "colab": {
      "collapsed_sections": [],
      "name": "Colaboratory chào mừng bạn!",
      "provenance": [],
      "include_colab_link": true
    },
    "kernelspec": {
      "display_name": "Python 3",
      "name": "python3"
    }
  },
  "nbformat": 4,
  "nbformat_minor": 0
}