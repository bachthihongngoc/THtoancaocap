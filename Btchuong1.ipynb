{
  "nbformat": 4,
  "nbformat_minor": 0,
  "metadata": {
    "colab": {
      "name": "Btchuong1.ipynb",
      "provenance": [],
      "authorship_tag": "ABX9TyM6ZUpgTwwpeeMVOUt9U3k9",
      "include_colab_link": true
    },
    "kernelspec": {
      "name": "python3",
      "display_name": "Python 3"
    },
    "language_info": {
      "name": "python"
    }
  },
  "cells": [
    {
      "cell_type": "markdown",
      "metadata": {
        "id": "view-in-github",
        "colab_type": "text"
      },
      "source": [
        "<a href=\"https://colab.research.google.com/github/bachthihongngoc/THtoancaocap/blob/main/Btchuong1.ipynb\" target=\"_parent\"><img src=\"https://colab.research.google.com/assets/colab-badge.svg\" alt=\"Open In Colab\"/></a>"
      ]
    },
    {
      "cell_type": "code",
      "execution_count": 99,
      "metadata": {
        "colab": {
          "base_uri": "https://localhost:8080/"
        },
        "id": "DmhEoPjGpzNw",
        "outputId": "9b90d8d8-09c6-423d-f285-e1e86f5132de"
      },
      "outputs": [
        {
          "output_type": "stream",
          "name": "stdout",
          "text": [
            "hello\n"
          ]
        }
      ],
      "source": [
        "print (\"hello\")"
      ]
    },
    {
      "cell_type": "code",
      "source": [
        "blocks = 10000\n",
        "dayS = [1/2**n for n in range(0, blocks)]\n",
        "tongS = sum(dayS)\n",
        "print (\" tong day S\", tongS)"
      ],
      "metadata": {
        "colab": {
          "base_uri": "https://localhost:8080/"
        },
        "id": "G3hWm1Hrg0TE",
        "outputId": "64df9f07-4d6b-480c-a3c0-0a6b5a9d1a57"
      },
      "execution_count": 100,
      "outputs": [
        {
          "output_type": "stream",
          "name": "stdout",
          "text": [
            " tong day S 2.0\n"
          ]
        }
      ]
    },
    {
      "cell_type": "code",
      "source": [
        "n = 1000\n",
        "X= [2*k/n for k in range(0, n + 1)]\n",
        "S = 0 \n",
        "for k in range (1 , n + 1 ):\n",
        "  S = S + X[k]**2 * (X[k] - X[k - 1])\n",
        "print (\" tong \", S)"
      ],
      "metadata": {
        "colab": {
          "base_uri": "https://localhost:8080/"
        },
        "id": "5Fr5JcOLg1AJ",
        "outputId": "0286023e-0177-4a8b-a73e-b21342cf3309"
      },
      "execution_count": 101,
      "outputs": [
        {
          "output_type": "stream",
          "name": "stdout",
          "text": [
            " tong  2.6706680000000027\n"
          ]
        }
      ]
    },
    {
      "cell_type": "code",
      "source": [
        "from sympy import *\n",
        "a = Rational ( 1 , 2 )\n",
        "print ( \" a \",a )\n",
        "print ( \" a \", a*2 )"
      ],
      "metadata": {
        "colab": {
          "base_uri": "https://localhost:8080/"
        },
        "id": "53WQCQdng3Ha",
        "outputId": "17d56e17-7ba9-41be-b318-00d028ff5fca"
      },
      "execution_count": 102,
      "outputs": [
        {
          "output_type": "stream",
          "name": "stdout",
          "text": [
            " a  1/2\n",
            " a  1\n"
          ]
        }
      ]
    },
    {
      "cell_type": "code",
      "source": [
        "oo > 99999\n",
        "True\n",
        "oo + 1 "
      ],
      "metadata": {
        "colab": {
          "base_uri": "https://localhost:8080/",
          "height": 38
        },
        "id": "NfgjrReAg5xW",
        "outputId": "fe1d59de-3c6c-4600-f515-d793e03ec929"
      },
      "execution_count": 103,
      "outputs": [
        {
          "output_type": "execute_result",
          "data": {
            "text/latex": "$\\displaystyle \\infty$",
            "text/plain": [
              "oo"
            ]
          },
          "metadata": {},
          "execution_count": 103
        }
      ]
    },
    {
      "cell_type": "code",
      "source": [
        "Rational(1, 2 ) + Rational(1, 3)"
      ],
      "metadata": {
        "colab": {
          "base_uri": "https://localhost:8080/",
          "height": 51
        },
        "id": "zYCC1iClg73B",
        "outputId": "b10881ab-3752-4a7d-bf75-a3ea6ac684ef"
      },
      "execution_count": 104,
      "outputs": [
        {
          "output_type": "execute_result",
          "data": {
            "text/latex": "$\\displaystyle \\frac{5}{6}$",
            "text/plain": [
              "5/6"
            ]
          },
          "metadata": {},
          "execution_count": 104
        }
      ]
    },
    {
      "cell_type": "code",
      "source": [
        "Rational(1, 2 ) + 1"
      ],
      "metadata": {
        "colab": {
          "base_uri": "https://localhost:8080/",
          "height": 51
        },
        "id": "LBEbStJFg9qx",
        "outputId": "6c44ae34-62f0-4749-9747-7d3e60e107da"
      },
      "execution_count": 105,
      "outputs": [
        {
          "output_type": "execute_result",
          "data": {
            "text/latex": "$\\displaystyle \\frac{3}{2}$",
            "text/plain": [
              "3/2"
            ]
          },
          "metadata": {},
          "execution_count": 105
        }
      ]
    },
    {
      "cell_type": "code",
      "source": [
        "Rational(1, 3 ) + 1 + 1.5"
      ],
      "metadata": {
        "colab": {
          "base_uri": "https://localhost:8080/",
          "height": 38
        },
        "id": "PWYjGNRphBqp",
        "outputId": "91b29d6d-ed55-4641-a664-55498599ea82"
      },
      "execution_count": 106,
      "outputs": [
        {
          "output_type": "execute_result",
          "data": {
            "text/latex": "$\\displaystyle 2.83333333333333$",
            "text/plain": [
              "2.83333333333333"
            ]
          },
          "metadata": {},
          "execution_count": 106
        }
      ]
    },
    {
      "cell_type": "code",
      "source": [
        "from sympy import *\n",
        "x = Symbol ( 'x')\n",
        "y = Symbol ('y')\n",
        "x+y+x-y\n",
        "(x + y )**2"
      ],
      "metadata": {
        "colab": {
          "base_uri": "https://localhost:8080/",
          "height": 40
        },
        "id": "Dcm_KTLIhD2R",
        "outputId": "03230109-de93-496d-ae81-f2270bdf3a79"
      },
      "execution_count": 107,
      "outputs": [
        {
          "output_type": "execute_result",
          "data": {
            "text/latex": "$\\displaystyle \\left(x + y\\right)^{2}$",
            "text/plain": [
              "(x + y)**2"
            ]
          },
          "metadata": {},
          "execution_count": 107
        }
      ]
    },
    {
      "cell_type": "code",
      "source": [
        "from sympy.solvers.solvers import denoms\n",
        "eq = (1/x)*1/(x-3)\n",
        "dd = denoms(eq)\n",
        "print ( dd)"
      ],
      "metadata": {
        "colab": {
          "base_uri": "https://localhost:8080/"
        },
        "id": "pYpfdmG1hGIZ",
        "outputId": "111576b7-35f0-4d5b-946f-a270b7cbe1be"
      },
      "execution_count": 108,
      "outputs": [
        {
          "output_type": "stream",
          "name": "stdout",
          "text": [
            "{x, x - 3}\n"
          ]
        }
      ]
    },
    {
      "cell_type": "code",
      "source": [
        "eq = (1 + 1/x)/(x-1)\n",
        "loai_tru = set()\n",
        "for d in denoms(eq):\n",
        "  for s in solve(d):\n",
        "    loai_tru.add(s)\n",
        "print (loai_tru) "
      ],
      "metadata": {
        "colab": {
          "base_uri": "https://localhost:8080/"
        },
        "id": "fxZLMBBihIfs",
        "outputId": "b755a834-3529-4e6f-b025-c86a0235f677"
      },
      "execution_count": 109,
      "outputs": [
        {
          "output_type": "stream",
          "name": "stdout",
          "text": [
            "{0, 1}\n"
          ]
        }
      ]
    },
    {
      "cell_type": "code",
      "source": [
        ""
      ],
      "metadata": {
        "id": "3k59qvG-imMC"
      },
      "execution_count": null,
      "outputs": []
    },
    {
      "cell_type": "code",
      "source": [
        "x = Symbol('x', positive = True) \n",
        "if (x+3) > 0:\n",
        "  print ('Chac chan x+3 duong!')\n",
        "else:\n",
        "  print ('x+3 chua chac la so duong!')"
      ],
      "metadata": {
        "colab": {
          "base_uri": "https://localhost:8080/"
        },
        "id": "DCfoj6DGhK2-",
        "outputId": "8930b44c-75d2-4f0c-8973-ca31a3cb3568"
      },
      "execution_count": 91,
      "outputs": [
        {
          "output_type": "stream",
          "name": "stdout",
          "text": [
            "Chac chan x+3 duong!\n"
          ]
        }
      ]
    },
    {
      "cell_type": "code",
      "source": [
        "import math\n",
        "math.sin(math.pi/2)"
      ],
      "metadata": {
        "colab": {
          "base_uri": "https://localhost:8080/"
        },
        "id": "xB_hw4ryhM-7",
        "outputId": "03e563c7-0661-4d29-aa28-a16d9ae5ad7a"
      },
      "execution_count": 90,
      "outputs": [
        {
          "output_type": "execute_result",
          "data": {
            "text/plain": [
              "1.0"
            ]
          },
          "metadata": {},
          "execution_count": 90
        }
      ]
    },
    {
      "cell_type": "code",
      "source": [
        "import math\n",
        "math.sin(math.pi/2)"
      ],
      "metadata": {
        "colab": {
          "base_uri": "https://localhost:8080/"
        },
        "id": "D5D_bKdwhPBC",
        "outputId": "e48f61f8-e586-4317-bdee-cd9249f8fb85"
      },
      "execution_count": 89,
      "outputs": [
        {
          "output_type": "execute_result",
          "data": {
            "text/plain": [
              "1.0"
            ]
          },
          "metadata": {},
          "execution_count": 89
        }
      ]
    },
    {
      "cell_type": "code",
      "source": [
        "import math\n",
        "(2*sympy.sin(math.pi/2) == sympy.sin(math.pi/2) + sympy.sin(math.pi/2))"
      ],
      "metadata": {
        "colab": {
          "base_uri": "https://localhost:8080/"
        },
        "id": "IUdDsftwhRWS",
        "outputId": "016ecbfd-911b-4000-86a2-f140e6c06301"
      },
      "execution_count": 88,
      "outputs": [
        {
          "output_type": "execute_result",
          "data": {
            "text/plain": [
              "True"
            ]
          },
          "metadata": {},
          "execution_count": 88
        }
      ]
    },
    {
      "cell_type": "code",
      "source": [
        "import math\n",
        "(2*sympy.sin(math.pi/2)*sympy.cos(math.pi/2)).equals(sympy.sin(2*math.pi/2))"
      ],
      "metadata": {
        "colab": {
          "base_uri": "https://localhost:8080/"
        },
        "id": "iepAaRp7hTku",
        "outputId": "c74bde9d-18f4-4f4a-e7a3-67e039687bc8"
      },
      "execution_count": 87,
      "outputs": [
        {
          "output_type": "execute_result",
          "data": {
            "text/plain": [
              "True"
            ]
          },
          "metadata": {},
          "execution_count": 87
        }
      ]
    },
    {
      "cell_type": "code",
      "source": [
        "from sympy import sin , solve , Symbol\n",
        "u = Symbol (\"u\")\n",
        "t = Symbol (\"t\")\n",
        "g = Symbol (\"g\")\n",
        "theta =Symbol ('theta')\n",
        "solve (u*sin(theta)-g*t, t )\n",
        "[u*sin(theta)/g]"
      ],
      "metadata": {
        "colab": {
          "base_uri": "https://localhost:8080/"
        },
        "id": "Gt3YjPyxhWi_",
        "outputId": "de286b70-b3ea-432f-c09c-c7f8a1038ff3"
      },
      "execution_count": 86,
      "outputs": [
        {
          "output_type": "execute_result",
          "data": {
            "text/plain": [
              "[u*sin(theta)/g]"
            ]
          },
          "metadata": {},
          "execution_count": 86
        }
      ]
    },
    {
      "cell_type": "code",
      "source": [
        "from sympy import Limit , Symbol , S\n",
        "x = Symbol ('x')\n",
        "Limit(1/x, x, S.Infinity)"
      ],
      "metadata": {
        "colab": {
          "base_uri": "https://localhost:8080/",
          "height": 51
        },
        "id": "64yd9iuVhZHq",
        "outputId": "c5a752f8-96cf-4afb-fdfa-076b0201f60d"
      },
      "execution_count": 85,
      "outputs": [
        {
          "output_type": "execute_result",
          "data": {
            "text/latex": "$\\displaystyle \\lim_{x \\to \\infty} \\frac{1}{x}$",
            "text/plain": [
              "Limit(1/x, x, oo, dir='-')"
            ]
          },
          "metadata": {},
          "execution_count": 85
        }
      ]
    },
    {
      "cell_type": "code",
      "source": [
        "from sympy import Limit , Symbol , S\n",
        "x = Symbol ('x')\n",
        "Limit(1/x, x, S.Infinity)"
      ],
      "metadata": {
        "colab": {
          "base_uri": "https://localhost:8080/",
          "height": 51
        },
        "id": "y005a-aIhe9D",
        "outputId": "f66c3215-a008-4975-b6e6-5584ee6e1d1c"
      },
      "execution_count": 79,
      "outputs": [
        {
          "output_type": "execute_result",
          "data": {
            "text/latex": "$\\displaystyle \\lim_{x \\to \\infty} \\frac{1}{x}$",
            "text/plain": [
              "Limit(1/x, x, oo, dir='-')"
            ]
          },
          "metadata": {},
          "execution_count": 79
        }
      ]
    },
    {
      "cell_type": "code",
      "source": [
        "from sympy import Limit\n",
        "Limit (1/x,x,0,dir='-').doit()"
      ],
      "metadata": {
        "colab": {
          "base_uri": "https://localhost:8080/",
          "height": 38
        },
        "id": "MhYUKNPghptM",
        "outputId": "7da04e0a-c33b-4c89-a03a-0c0f4759467d"
      },
      "execution_count": 76,
      "outputs": [
        {
          "output_type": "execute_result",
          "data": {
            "text/latex": "$\\displaystyle -\\infty$",
            "text/plain": [
              "-oo"
            ]
          },
          "metadata": {},
          "execution_count": 76
        }
      ]
    },
    {
      "cell_type": "code",
      "source": [
        " Limit(1/x, x, 0, dir='+').doit() "
      ],
      "metadata": {
        "colab": {
          "base_uri": "https://localhost:8080/",
          "height": 38
        },
        "id": "q2yJQrvEhr3F",
        "outputId": "aef21dc8-8836-4ff1-8bd4-914da1e5ff19"
      },
      "execution_count": 75,
      "outputs": [
        {
          "output_type": "execute_result",
          "data": {
            "text/latex": "$\\displaystyle \\infty$",
            "text/plain": [
              "oo"
            ]
          },
          "metadata": {},
          "execution_count": 75
        }
      ]
    },
    {
      "cell_type": "code",
      "source": [
        "from sympy import Symbol, sin\n",
        "Limit(sin(x)/x, x, 0).doit() "
      ],
      "metadata": {
        "colab": {
          "base_uri": "https://localhost:8080/",
          "height": 38
        },
        "id": "PsoXuYpIhu-d",
        "outputId": "e44e02cc-5759-4bdb-c78d-c34fad1ed9b0"
      },
      "execution_count": 74,
      "outputs": [
        {
          "output_type": "execute_result",
          "data": {
            "text/latex": "$\\displaystyle 1$",
            "text/plain": [
              "1"
            ]
          },
          "metadata": {},
          "execution_count": 74
        }
      ]
    },
    {
      "cell_type": "code",
      "source": [
        "from sympy import Symbol , sin \n",
        "Limit(x* sin(1/x), x,oo ).doit()"
      ],
      "metadata": {
        "colab": {
          "base_uri": "https://localhost:8080/",
          "height": 38
        },
        "id": "KuZxTgEyhvnR",
        "outputId": "306abf9a-2e61-43a8-8e89-a1ab64f3e796"
      },
      "execution_count": 73,
      "outputs": [
        {
          "output_type": "execute_result",
          "data": {
            "text/latex": "$\\displaystyle 1$",
            "text/plain": [
              "1"
            ]
          },
          "metadata": {},
          "execution_count": 73
        }
      ]
    },
    {
      "cell_type": "code",
      "source": [
        "from sympy import limit, sin, S\n",
        "limit(x*sin(1/x), x, sympy.oo)"
      ],
      "metadata": {
        "colab": {
          "base_uri": "https://localhost:8080/",
          "height": 38
        },
        "id": "bmnJAQIMhxn1",
        "outputId": "43bb0166-7c43-4d3c-ed43-bfef9f9c476d"
      },
      "execution_count": 72,
      "outputs": [
        {
          "output_type": "execute_result",
          "data": {
            "text/latex": "$\\displaystyle 1$",
            "text/plain": [
              "1"
            ]
          },
          "metadata": {},
          "execution_count": 72
        }
      ]
    },
    {
      "cell_type": "code",
      "source": [
        "from sympy import Limit, Symbol, S\n",
        "n = Symbol ('n')\n",
        "Limit((1+1/n)**n, n, S.Infinity).doit()"
      ],
      "metadata": {
        "colab": {
          "base_uri": "https://localhost:8080/",
          "height": 39
        },
        "id": "9EgV2Mqgh1rz",
        "outputId": "bc0a7878-be8d-4d89-89ec-6f5d8e876fdf"
      },
      "execution_count": 71,
      "outputs": [
        {
          "output_type": "execute_result",
          "data": {
            "text/latex": "$\\displaystyle e$",
            "text/plain": [
              "E"
            ]
          },
          "metadata": {},
          "execution_count": 71
        }
      ]
    },
    {
      "cell_type": "code",
      "source": [
        "from sympy import Symbol, Limit, S\n",
        "p = Symbol ('p', positive=True)\n",
        "r = Symbol ('r', positive=True)\n",
        "t = Symbol ('t', positive=True)\n",
        "Limit(p*(1+r/n)**(n*t), n, S.Infinity).doit()*p*exp(r*t)"
      ],
      "metadata": {
        "id": "gYj0vq3-h3-H"
      },
      "execution_count": null,
      "outputs": []
    },
    {
      "cell_type": "code",
      "source": [
        "from sympy import Symbol, Limit\n",
        "t = Symbol('t')\n",
        "St = 5*t**2 + 2*t + 8 \n",
        "\n",
        "t1 = Symbol('t1')\n",
        "delta_t = Symbol('delta_t')\n",
        "\n",
        "St1 = St.subs({t : t1})\n",
        "St1_delta = St.subs({t: t1 + delta_t })\n"
      ],
      "metadata": {
        "id": "ymWfDH3nh6PJ"
      },
      "execution_count": 70,
      "outputs": []
    },
    {
      "cell_type": "code",
      "source": [
        "Limit ((St1_delta-St1)/delta_t, delta_t, 0).doit()"
      ],
      "metadata": {
        "colab": {
          "base_uri": "https://localhost:8080/",
          "height": 39
        },
        "id": "_UkvzoPih8MS",
        "outputId": "5f215a2f-3957-482f-f62d-75cbf8db5dfe"
      },
      "execution_count": 69,
      "outputs": [
        {
          "output_type": "execute_result",
          "data": {
            "text/latex": "$\\displaystyle 10 t_{1} + 2$",
            "text/plain": [
              "10*t1 + 2"
            ]
          },
          "metadata": {},
          "execution_count": 69
        }
      ]
    },
    {
      "cell_type": "code",
      "source": [
        "3 == 3 "
      ],
      "metadata": {
        "colab": {
          "base_uri": "https://localhost:8080/"
        },
        "id": "bgROIUOSh8zQ",
        "outputId": "3ddd1ed7-ba06-4b5c-ea70-c4a5d2ba9d54"
      },
      "execution_count": 68,
      "outputs": [
        {
          "output_type": "execute_result",
          "data": {
            "text/plain": [
              "True"
            ]
          },
          "metadata": {},
          "execution_count": 68
        }
      ]
    },
    {
      "cell_type": "code",
      "source": [
        "a = True \n",
        "b = False\n",
        "if (1/10 > 0 )and (a ==b ):\n",
        "  print (\"a = b\")\n",
        "else:\n",
        "  print (\"a khac b \")"
      ],
      "metadata": {
        "colab": {
          "base_uri": "https://localhost:8080/"
        },
        "id": "ZffmsUjSiCLa",
        "outputId": "1b9d8923-ca3e-4c16-8945-40e5a99c93d4"
      },
      "execution_count": 67,
      "outputs": [
        {
          "output_type": "stream",
          "name": "stdout",
          "text": [
            "a khac b \n"
          ]
        }
      ]
    }
  ]
}