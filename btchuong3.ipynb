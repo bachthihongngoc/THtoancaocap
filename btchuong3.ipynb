{
  "nbformat": 4,
  "nbformat_minor": 0,
  "metadata": {
    "colab": {
      "name": "btchuong3.ipynb",
      "provenance": [],
      "collapsed_sections": [],
      "authorship_tag": "ABX9TyOp03ayIG2xQzjEjels+nAp",
      "include_colab_link": true
    },
    "kernelspec": {
      "name": "python3",
      "display_name": "Python 3"
    },
    "language_info": {
      "name": "python"
    }
  },
  "cells": [
    {
      "cell_type": "markdown",
      "metadata": {
        "id": "view-in-github",
        "colab_type": "text"
      },
      "source": [
        "<a href=\"https://colab.research.google.com/github/bachthihongngoc/THtoancaocap/blob/main/btchuong3.ipynb\" target=\"_parent\"><img src=\"https://colab.research.google.com/assets/colab-badge.svg\" alt=\"Open In Colab\"/></a>"
      ]
    },
    {
      "cell_type": "code",
      "execution_count": 1,
      "metadata": {
        "id": "dGcEVVerxx45"
      },
      "outputs": [],
      "source": [
        "def luythua(x,n):\n",
        "  ketqua= 1 \n",
        "  for i in range(n):\n",
        "    ketqua = ketqua*x\n",
        "  return ketqua\n",
        "  "
      ]
    },
    {
      "cell_type": "code",
      "source": [
        "luythua(2,1)"
      ],
      "metadata": {
        "colab": {
          "base_uri": "https://localhost:8080/"
        },
        "id": "LW2Wx99KzLiu",
        "outputId": "5b70b4dc-0633-40e0-ee50-803b843c6986"
      },
      "execution_count": 2,
      "outputs": [
        {
          "output_type": "execute_result",
          "data": {
            "text/plain": [
              "2"
            ]
          },
          "metadata": {},
          "execution_count": 2
        }
      ]
    },
    {
      "cell_type": "code",
      "source": [
        "luythua(2,0)"
      ],
      "metadata": {
        "colab": {
          "base_uri": "https://localhost:8080/"
        },
        "id": "zkl5iQizzif0",
        "outputId": "84cf9fdc-14ae-4b2f-ed05-b7671da24b17"
      },
      "execution_count": 3,
      "outputs": [
        {
          "output_type": "execute_result",
          "data": {
            "text/plain": [
              "1"
            ]
          },
          "metadata": {},
          "execution_count": 3
        }
      ]
    },
    {
      "cell_type": "code",
      "source": [
        "while 1 = 2\n"
      ],
      "metadata": {
        "colab": {
          "base_uri": "https://localhost:8080/",
          "height": 130
        },
        "id": "sWEuyoLVz3eQ",
        "outputId": "fb54f4e4-1e71-443e-d73d-9fdb41d43c29"
      },
      "execution_count": 4,
      "outputs": [
        {
          "output_type": "error",
          "ename": "SyntaxError",
          "evalue": "ignored",
          "traceback": [
            "\u001b[0;36m  File \u001b[0;32m\"<ipython-input-4-ff3898404e4e>\"\u001b[0;36m, line \u001b[0;32m1\u001b[0m\n\u001b[0;31m    while 1 = 2\u001b[0m\n\u001b[0m            ^\u001b[0m\n\u001b[0;31mSyntaxError\u001b[0m\u001b[0;31m:\u001b[0m invalid syntax\n"
          ]
        }
      ]
    },
    {
      "cell_type": "code",
      "source": [
        "10*(1/0)"
      ],
      "metadata": {
        "colab": {
          "base_uri": "https://localhost:8080/",
          "height": 165
        },
        "id": "piKHECWhz7_k",
        "outputId": "52fb8a36-4a88-44a0-b2aa-03f683d7e448"
      },
      "execution_count": 5,
      "outputs": [
        {
          "output_type": "error",
          "ename": "ZeroDivisionError",
          "evalue": "ignored",
          "traceback": [
            "\u001b[0;31m---------------------------------------------------------------------------\u001b[0m",
            "\u001b[0;31mZeroDivisionError\u001b[0m                         Traceback (most recent call last)",
            "\u001b[0;32m<ipython-input-5-fbc7e86ae71a>\u001b[0m in \u001b[0;36m<module>\u001b[0;34m()\u001b[0m\n\u001b[0;32m----> 1\u001b[0;31m \u001b[0;36m10\u001b[0m\u001b[0;34m*\u001b[0m\u001b[0;34m(\u001b[0m\u001b[0;36m1\u001b[0m\u001b[0;34m/\u001b[0m\u001b[0;36m0\u001b[0m\u001b[0;34m)\u001b[0m\u001b[0;34m\u001b[0m\u001b[0;34m\u001b[0m\u001b[0m\n\u001b[0m",
            "\u001b[0;31mZeroDivisionError\u001b[0m: division by zero"
          ]
        }
      ]
    },
    {
      "cell_type": "code",
      "source": [
        "3*bien_chua_khai_bao /4"
      ],
      "metadata": {
        "colab": {
          "base_uri": "https://localhost:8080/",
          "height": 165
        },
        "id": "elwDfQ0V0Dfh",
        "outputId": "97b07a02-d4e7-475a-cbce-b39c783c5ca2"
      },
      "execution_count": 6,
      "outputs": [
        {
          "output_type": "error",
          "ename": "NameError",
          "evalue": "ignored",
          "traceback": [
            "\u001b[0;31m---------------------------------------------------------------------------\u001b[0m",
            "\u001b[0;31mNameError\u001b[0m                                 Traceback (most recent call last)",
            "\u001b[0;32m<ipython-input-6-1988e3d543d1>\u001b[0m in \u001b[0;36m<module>\u001b[0;34m()\u001b[0m\n\u001b[0;32m----> 1\u001b[0;31m \u001b[0;36m3\u001b[0m\u001b[0;34m*\u001b[0m\u001b[0mbien_chua_khai_bao\u001b[0m \u001b[0;34m/\u001b[0m\u001b[0;36m4\u001b[0m\u001b[0;34m\u001b[0m\u001b[0;34m\u001b[0m\u001b[0m\n\u001b[0m",
            "\u001b[0;31mNameError\u001b[0m: name 'bien_chua_khai_bao' is not defined"
          ]
        }
      ]
    },
    {
      "cell_type": "code",
      "source": [
        "'ba' + 7 "
      ],
      "metadata": {
        "colab": {
          "base_uri": "https://localhost:8080/",
          "height": 165
        },
        "id": "WqaHLivY0L6P",
        "outputId": "455b7845-951a-4455-d337-ced60ae9a773"
      },
      "execution_count": 7,
      "outputs": [
        {
          "output_type": "error",
          "ename": "TypeError",
          "evalue": "ignored",
          "traceback": [
            "\u001b[0;31m---------------------------------------------------------------------------\u001b[0m",
            "\u001b[0;31mTypeError\u001b[0m                                 Traceback (most recent call last)",
            "\u001b[0;32m<ipython-input-7-c0a1faa7f795>\u001b[0m in \u001b[0;36m<module>\u001b[0;34m()\u001b[0m\n\u001b[0;32m----> 1\u001b[0;31m \u001b[0;34m'ba'\u001b[0m \u001b[0;34m+\u001b[0m \u001b[0;36m7\u001b[0m\u001b[0;34m\u001b[0m\u001b[0;34m\u001b[0m\u001b[0m\n\u001b[0m",
            "\u001b[0;31mTypeError\u001b[0m: can only concatenate str (not \"int\") to str"
          ]
        }
      ]
    },
    {
      "cell_type": "code",
      "source": [
        "'ba' + (1/10)"
      ],
      "metadata": {
        "colab": {
          "base_uri": "https://localhost:8080/",
          "height": 165
        },
        "id": "n7TD8iJb0TJd",
        "outputId": "d5d3c3c6-bed9-4a54-8091-4d5c5fa4693c"
      },
      "execution_count": 8,
      "outputs": [
        {
          "output_type": "error",
          "ename": "TypeError",
          "evalue": "ignored",
          "traceback": [
            "\u001b[0;31m---------------------------------------------------------------------------\u001b[0m",
            "\u001b[0;31mTypeError\u001b[0m                                 Traceback (most recent call last)",
            "\u001b[0;32m<ipython-input-8-eb63f70de2fc>\u001b[0m in \u001b[0;36m<module>\u001b[0;34m()\u001b[0m\n\u001b[0;32m----> 1\u001b[0;31m \u001b[0;34m'ba'\u001b[0m \u001b[0;34m+\u001b[0m \u001b[0;34m(\u001b[0m\u001b[0;36m1\u001b[0m\u001b[0;34m/\u001b[0m\u001b[0;36m10\u001b[0m\u001b[0;34m)\u001b[0m\u001b[0;34m\u001b[0m\u001b[0;34m\u001b[0m\u001b[0m\n\u001b[0m",
            "\u001b[0;31mTypeError\u001b[0m: can only concatenate str (not \"float\") to str"
          ]
        }
      ]
    },
    {
      "cell_type": "code",
      "source": [
        "'ba'+7+(1/0)"
      ],
      "metadata": {
        "colab": {
          "base_uri": "https://localhost:8080/",
          "height": 165
        },
        "id": "rMGA_SKM0YAi",
        "outputId": "2a2151fd-f36f-4754-81a8-0cdcb519576d"
      },
      "execution_count": 9,
      "outputs": [
        {
          "output_type": "error",
          "ename": "TypeError",
          "evalue": "ignored",
          "traceback": [
            "\u001b[0;31m---------------------------------------------------------------------------\u001b[0m",
            "\u001b[0;31mTypeError\u001b[0m                                 Traceback (most recent call last)",
            "\u001b[0;32m<ipython-input-9-01b846f375b1>\u001b[0m in \u001b[0;36m<module>\u001b[0;34m()\u001b[0m\n\u001b[0;32m----> 1\u001b[0;31m \u001b[0;34m'ba'\u001b[0m\u001b[0;34m+\u001b[0m\u001b[0;36m7\u001b[0m\u001b[0;34m+\u001b[0m\u001b[0;34m(\u001b[0m\u001b[0;36m1\u001b[0m\u001b[0;34m/\u001b[0m\u001b[0;36m0\u001b[0m\u001b[0;34m)\u001b[0m\u001b[0;34m\u001b[0m\u001b[0;34m\u001b[0m\u001b[0m\n\u001b[0m",
            "\u001b[0;31mTypeError\u001b[0m: can only concatenate str (not \"int\") to str"
          ]
        }
      ]
    },
    {
      "cell_type": "code",
      "source": [
        "x = int(input(\"vui long nhap so :\"))\n",
        "\n",
        "\n",
        "\n"
      ],
      "metadata": {
        "colab": {
          "base_uri": "https://localhost:8080/"
        },
        "id": "XNbxmM3a00Pe",
        "outputId": "b7d51860-6290-4a9c-ad83-4fe0f9e2ee1b"
      },
      "execution_count": 36,
      "outputs": [
        {
          "name": "stdout",
          "output_type": "stream",
          "text": [
            "vui long nhap so :2\n"
          ]
        }
      ]
    },
    {
      "cell_type": "code",
      "source": [
        "while True:\n",
        "  try:\n",
        "    x = int(input('vui long nhap so :'))\n",
        "  except:\n",
        "    print ('so vua nhap sai')\n",
        "  else:\n",
        "    print ('so vua nhap la'+str(x))\n",
        "    break\n",
        "  finally:\n",
        "    print ('da hoan thanh chuong trinh')"
      ],
      "metadata": {
        "colab": {
          "base_uri": "https://localhost:8080/"
        },
        "id": "SB1V13F73chz",
        "outputId": "a6b73a35-27c8-426c-f91f-2b1cd66caab2"
      },
      "execution_count": 31,
      "outputs": [
        {
          "output_type": "stream",
          "name": "stdout",
          "text": [
            "vui long nhap so :a\n",
            "so vua nhap sai\n",
            "da hoan thanh chuong trinh\n",
            "vui long nhap so :1\n",
            "so vua nhap la1\n",
            "da hoan thanh chuong trinh\n"
          ]
        }
      ]
    },
    {
      "cell_type": "code",
      "source": [
        "def frange (batdau, ketthuc, buocnhay):\n",
        "  day_ketqua = []\n",
        "  while batdau < ketthuc:\n",
        "    day_ketqua.append(batdau)\n",
        "    batdau = batdau + buocnhay\n",
        "  return day_ketqua\n",
        "  "
      ],
      "metadata": {
        "id": "ewNafUmC5lQR"
      },
      "execution_count": 47,
      "outputs": []
    },
    {
      "cell_type": "code",
      "source": [
        "tu2den12 = frange(2 , 12, 0.2)\n",
        "tu2den12"
      ],
      "metadata": {
        "colab": {
          "base_uri": "https://localhost:8080/"
        },
        "id": "-ICFGbLS7V_W",
        "outputId": "f0d612ed-f9b2-458f-9f02-2337f458e388"
      },
      "execution_count": 49,
      "outputs": [
        {
          "output_type": "execute_result",
          "data": {
            "text/plain": [
              "[2,\n",
              " 2.2,\n",
              " 2.4000000000000004,\n",
              " 2.6000000000000005,\n",
              " 2.8000000000000007,\n",
              " 3.000000000000001,\n",
              " 3.200000000000001,\n",
              " 3.4000000000000012,\n",
              " 3.6000000000000014,\n",
              " 3.8000000000000016,\n",
              " 4.000000000000002,\n",
              " 4.200000000000002,\n",
              " 4.400000000000002,\n",
              " 4.600000000000002,\n",
              " 4.8000000000000025,\n",
              " 5.000000000000003,\n",
              " 5.200000000000003,\n",
              " 5.400000000000003,\n",
              " 5.600000000000003,\n",
              " 5.800000000000003,\n",
              " 6.0000000000000036,\n",
              " 6.200000000000004,\n",
              " 6.400000000000004,\n",
              " 6.600000000000004,\n",
              " 6.800000000000004,\n",
              " 7.000000000000004,\n",
              " 7.200000000000005,\n",
              " 7.400000000000005,\n",
              " 7.600000000000005,\n",
              " 7.800000000000005,\n",
              " 8.000000000000005,\n",
              " 8.200000000000005,\n",
              " 8.400000000000004,\n",
              " 8.600000000000003,\n",
              " 8.800000000000002,\n",
              " 9.000000000000002,\n",
              " 9.200000000000001,\n",
              " 9.4,\n",
              " 9.6,\n",
              " 9.799999999999999,\n",
              " 9.999999999999998,\n",
              " 10.199999999999998,\n",
              " 10.399999999999997,\n",
              " 10.599999999999996,\n",
              " 10.799999999999995,\n",
              " 10.999999999999995,\n",
              " 11.199999999999994,\n",
              " 11.399999999999993,\n",
              " 11.599999999999993,\n",
              " 11.799999999999992,\n",
              " 11.999999999999991]"
            ]
          },
          "metadata": {},
          "execution_count": 49
        }
      ]
    },
    {
      "cell_type": "code",
      "source": [
        "from matplotlib import pyplot as plt \n",
        "import math"
      ],
      "metadata": {
        "id": "CqzzCjCp7zik"
      },
      "execution_count": 50,
      "outputs": []
    },
    {
      "cell_type": "code",
      "source": [
        "import numbers\n",
        "from matplotlib.transforms import interval_contains\n",
        "def draw_graph(x,y):\n",
        "  plt.plot(x,y)\n",
        "  plt.xlabel ('Truc X ')\n",
        "  plt.ylabel ('Truc Y ')\n",
        "  plt.title (' do thi bai toan nem qua bong ')\n",
        "def frange (start , final , interval):\n",
        "  number = []\n",
        "  while start < final:\n",
        "    numbers.append(start)\n",
        "    start = start + interval\n",
        "  return numbers\n",
        "def draw_trajectory(u,theta):\n",
        "  #gia toc trong truong\n",
        "  g = 9.8\n",
        "  #goc bay \n",
        "  theta = math.radians(theta )\n",
        "  #thời gian bay :\n",
        "  t_flight = 2 * u * math.sin(theta)/g\n",
        "  #tinh toan khoang cách thơi gian \n",
        "  intervals = frange(0,t_flight,0.001)\n",
        "  #danh sach toa độ x va y \n",
        "  x = []\n",
        "  y = []\n",
        "  for t in intervals:\n",
        "    x.append(u*math*cos(theta)*t)\n",
        "    y.append(u*math*sin(theta)*t - 0.5*g*t*t)\n",
        "    draw_graph(x,y)"
      ],
      "metadata": {
        "id": "ZFmuQ9h-8CC_"
      },
      "execution_count": 55,
      "outputs": []
    },
    {
      "cell_type": "code",
      "source": [
        "if_name_=='_main_':\n",
        "  try:\n",
        "    u = float(input('nhap van toc ban dau (m/s):'))\n",
        "    theta = float(input('nhap goc bay(degree):'))\n",
        "    except ValueError:\n",
        "      print ('nhap cac gia tri sai!')\n",
        "    else:\n",
        "      draw_trajectory(u, theta )\n",
        "      plt.show()\n",
        "      finally:\n",
        "        print (' hoan thanh chuong trinh ')"
      ],
      "metadata": {
        "colab": {
          "base_uri": "https://localhost:8080/",
          "height": 130
        },
        "id": "HhVTklj59Xq5",
        "outputId": "3d15c9f9-c0ba-4881-aa5c-3c6985a135cb"
      },
      "execution_count": 56,
      "outputs": [
        {
          "output_type": "error",
          "ename": "SyntaxError",
          "evalue": "ignored",
          "traceback": [
            "\u001b[0;36m  File \u001b[0;32m\"<ipython-input-56-a95ca0c874c2>\"\u001b[0;36m, line \u001b[0;32m1\u001b[0m\n\u001b[0;31m    if_name_=='_main_':\u001b[0m\n\u001b[0m                       ^\u001b[0m\n\u001b[0;31mSyntaxError\u001b[0m\u001b[0;31m:\u001b[0m invalid syntax\n"
          ]
        }
      ]
    }
  ]
}