{
  "nbformat": 4,
  "nbformat_minor": 0,
  "metadata": {
    "colab": {
      "name": "thi.ipynb",
      "provenance": [],
      "authorship_tag": "ABX9TyOxv0axPbSkQrxg70DFL7uF",
      "include_colab_link": true
    },
    "kernelspec": {
      "name": "python3",
      "display_name": "Python 3"
    },
    "language_info": {
      "name": "python"
    }
  },
  "cells": [
    {
      "cell_type": "markdown",
      "metadata": {
        "id": "view-in-github",
        "colab_type": "text"
      },
      "source": [
        "<a href=\"https://colab.research.google.com/github/bachthihongngoc/THtoancaocap/blob/main/thi.ipynb\" target=\"_parent\"><img src=\"https://colab.research.google.com/assets/colab-badge.svg\" alt=\"Open In Colab\"/></a>"
      ]
    },
    {
      "cell_type": "markdown",
      "source": [
        "dao ham b2"
      ],
      "metadata": {
        "id": "ng4m08kSZFVA"
      }
    },
    {
      "cell_type": "code",
      "execution_count": 1,
      "metadata": {
        "colab": {
          "base_uri": "https://localhost:8080/",
          "height": 58
        },
        "id": "jwujV6xMVTcN",
        "outputId": "b2eead2d-ed97-4e33-938f-89524801b2db"
      },
      "outputs": [
        {
          "output_type": "execute_result",
          "data": {
            "text/plain": [
              "2/(x + 2) - (2*x - 1)/(x + 2)**2"
            ],
            "text/latex": "$\\displaystyle \\frac{2}{x + 2} - \\frac{2 x - 1}{\\left(x + 2\\right)^{2}}$"
          },
          "metadata": {},
          "execution_count": 1
        }
      ],
      "source": [
        "from sympy import Derivative , Symbol\n",
        "x = Symbol('x')\n",
        "f = ((2*x-1)/(x+2))\n",
        "Derivative(f, x).doit()"
      ]
    },
    {
      "cell_type": "markdown",
      "source": [
        "tich phan "
      ],
      "metadata": {
        "id": "J0YkcZQ-Z8p2"
      }
    },
    {
      "cell_type": "code",
      "source": [
        "hinhthang = lambda f,0 ,1 :(1-0)*(f(1)+f(0))/2\n",
        "def hai_x(x):\n",
        "  return ((2*x -1 )/(x + 1))\n",
        "hinhthang(hai_x, 0 ,1 )\n"
      ],
      "metadata": {
        "colab": {
          "base_uri": "https://localhost:8080/",
          "height": 130
        },
        "id": "kV-_4haQaKmC",
        "outputId": "4312850b-7c05-470e-bf75-094d682eeb3e"
      },
      "execution_count": 3,
      "outputs": [
        {
          "output_type": "error",
          "ename": "SyntaxError",
          "evalue": "ignored",
          "traceback": [
            "\u001b[0;36m  File \u001b[0;32m\"<ipython-input-3-7f7ed9875621>\"\u001b[0;36m, line \u001b[0;32m1\u001b[0m\n\u001b[0;31m    hinhthang = lambda f,0 ,1 :(1-0)*(f(1)+f(0))/2\u001b[0m\n\u001b[0m                         ^\u001b[0m\n\u001b[0;31mSyntaxError\u001b[0m\u001b[0;31m:\u001b[0m invalid syntax\n"
          ]
        }
      ]
    },
    {
      "cell_type": "code",
      "source": [
        ""
      ],
      "metadata": {
        "id": "kuUX3GSqda1c"
      },
      "execution_count": null,
      "outputs": []
    }
  ]
}